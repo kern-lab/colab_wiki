{
  "nbformat": 4,
  "nbformat_minor": 0,
  "metadata": {
    "colab": {
      "name": "Copy of Untitled0.ipynb",
      "provenance": [],
      "collapsed_sections": [],
      "authorship_tag": "ABX9TyMH5S6d9oc5M2BuGbrp10we",
      "include_colab_link": true
    },
    "kernelspec": {
      "name": "python3",
      "display_name": "Python 3"
    }
  },
  "cells": [
    {
      "cell_type": "markdown",
      "metadata": {
        "id": "view-in-github",
        "colab_type": "text"
      },
      "source": [
        "<a href=\"https://colab.research.google.com/github/kr-colab/colab_wiki/blob/master/landscapes_theory.ipynb\" target=\"_parent\"><img src=\"https://colab.research.google.com/assets/colab-badge.svg\" alt=\"Open In Colab\"/></a>"
      ]
    },
    {
      "cell_type": "markdown",
      "metadata": {
        "id": "maGYwbuiW6d1"
      },
      "source": [
        ""
      ]
    },
    {
      "cell_type": "markdown",
      "metadata": {
        "id": "e6Agn0HjW9DZ"
      },
      "source": [
        "# Landscapes of diversity\n",
        "\n",
        "Our goal is to model how landscapes of diversity change over time under different evolutionary scenarios.\n",
        "\n",
        "We define $\\pi_t(x)$ to be the nucleotide diversity, $t$ units of time in the past, at site $x$. We want to know how does diversity in the present depend on diversity $T$ time ago.\n",
        "\n",
        "$$\\pi_0(x) | \\pi_T(x)$$\n",
        "\n",
        "Note that the diversity at position $x$ is\n",
        "\n",
        "$$\\pi_0(x) = \\mathbb{E}[\\tau]$$\n",
        "\n",
        "where $\\tau$ is the time to coalescence. Using the law of total expectation and conditioning on time to coalescence, we write\n",
        "\n",
        "$$\\mathbb{E}[\\tau] = \\mathbb{E}[\\tau|\\tau \\geq T]\\mathbb{P}[\\tau \\geq T] + \\mathbb{E}[\\tau|\\tau<T]\\mathbb{P}[\\tau < T]$$ (Eq. 1)\n",
        "\n",
        "First, let's focus on the LHS of Eq. 1.\n",
        "By definition, $\\mathbb{E}[\\tau|\\tau \\geq T] = \\pi_T(x)$. **Q**: Why? Shouldn't you add the branch length from $0$ to $T$ also?\n",
        "\n",
        "If we model the number of lineages ($N_t$) as a non-homogeneous Poisson process, then the probability and cumulative density function of $\\tau$ are \n",
        "\n",
        "$$\\mathbb{P}[\\tau = t] = C(t) \\,e^{-\\int_0^T C(t) \\,dt}$$\n",
        "\n",
        "$$\\mathbb{P}[\\tau \\geq t] = e^{-\\int_0^t C(t) \\,dt}$$\n",
        "\n",
        "where $C(t)$ is the instantaneous coalescent rate. If we assume neutrality and constant population size $C(t) = \\frac{1}{2N}$, so $$\\mathbb{P}[\\tau \\geq t] = e^{-\\frac{t}{2N}}$$\n",
        "\n",
        "Thus,\n",
        "\n",
        "$$\\mathbb{E}[\\tau|\\tau \\geq T]\\mathbb{P}[\\tau \\geq T] = e^{-\\frac{T}{2N}}\\pi_T(x)$$\n",
        "\n",
        "Now, let's look at the RHS of Eq. 1.\n",
        "\n",
        "$$\\mathbb{E}[\\tau|\\tau<T] = \\int_0^\\infty t \\, \\mathbb{P}[\\tau=t | \\tau < T] \\, dt = \\int_0^\\infty t \\, \\frac{\\mathbb{P}[\\tau=t, \\tau < T]}{\\mathbb{P}[\\tau < T]} \\, dt = \\\\ \\int_0^T t \\, \\frac{\\mathbb{P}[\\tau=t]}{\\mathbb{P}[\\tau < T]} \\, dt$$\n",
        "\n",
        "Thus,\n",
        "\n",
        "$$\\mathbb{E}[\\tau|\\tau<T]\\mathbb{P}[\\tau < T] = \\int_0^T t \\, \\mathbb{P}[\\tau=t] \\, dt \\\\ = 2N(1-e^{-T/2N}) + T e^{-T/2N}$$\n",
        "\n",
        "Going back to Eq. 1, we get\n",
        "\n",
        "$$\\mathbb{E}[\\tau] = e^{-\\frac{T}{2N}}\\pi_T(x) + 2N(1-e^{-T/2N}) + T e^{-T/2N} \\\\ = e^{-T/2N}(\\pi_T(x) + T) + (1 - e^{-T/2N}) 2N$$\n",
        "\n"
      ]
    }
  ]
}